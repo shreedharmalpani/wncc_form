{
  "nbformat": 4,
  "nbformat_minor": 0,
  "metadata": {
    "colab": {
      "name": "Untitled3.ipynb",
      "provenance": [],
      "collapsed_sections": [],
      "authorship_tag": "ABX9TyPrEJA8GipHywvIkGSLfwhd",
      "include_colab_link": true
    },
    "kernelspec": {
      "name": "python3",
      "display_name": "Python 3"
    },
    "language_info": {
      "name": "python"
    }
  },
  "cells": [
    {
      "cell_type": "markdown",
      "metadata": {
        "id": "view-in-github",
        "colab_type": "text"
      },
      "source": [
        "<a href=\"https://colab.research.google.com/github/shreedharmalpani/wncc_form/blob/main/Untitled3.ipynb\" target=\"_parent\"><img src=\"https://colab.research.google.com/assets/colab-badge.svg\" alt=\"Open In Colab\"/></a>"
      ]
    },
    {
      "cell_type": "code",
      "metadata": {
        "id": "rJ6_J61MhA9b"
      },
      "source": [
        "import pandas as pd\n",
        "import numpy as np\n",
        "import matplotlib.pyplot as plt\n",
        "import torch\n",
        "import torch.nn as nn\n",
        "import nltk"
      ],
      "execution_count": null,
      "outputs": []
    },
    {
      "cell_type": "code",
      "metadata": {
        "colab": {
          "base_uri": "https://localhost:8080/"
        },
        "id": "Upf2clIChDtH",
        "outputId": "53c8ec6d-97fe-4ec6-9dd9-52209b2db345"
      },
      "source": [
        "from google.colab import drive\n",
        "drive.mount('/content/drive')"
      ],
      "execution_count": null,
      "outputs": [
        {
          "output_type": "stream",
          "text": [
            "Drive already mounted at /content/drive; to attempt to forcibly remount, call drive.mount(\"/content/drive\", force_remount=True).\n"
          ],
          "name": "stdout"
        }
      ]
    },
    {
      "cell_type": "code",
      "metadata": {
        "colab": {
          "base_uri": "https://localhost:8080/",
          "height": 166
        },
        "id": "2rcV7hrbhPoR",
        "outputId": "778d7a1e-7e9c-4ac3-e222-ba63c1e88b82"
      },
      "source": [
        "path=\"/content/drive/MyDrive/IMDB Dataset.csv\"\n",
        "data= pd.read_csv(path)\n",
        "data.describe()"
      ],
      "execution_count": null,
      "outputs": [
        {
          "output_type": "execute_result",
          "data": {
            "text/html": [
              "<div>\n",
              "<style scoped>\n",
              "    .dataframe tbody tr th:only-of-type {\n",
              "        vertical-align: middle;\n",
              "    }\n",
              "\n",
              "    .dataframe tbody tr th {\n",
              "        vertical-align: top;\n",
              "    }\n",
              "\n",
              "    .dataframe thead th {\n",
              "        text-align: right;\n",
              "    }\n",
              "</style>\n",
              "<table border=\"1\" class=\"dataframe\">\n",
              "  <thead>\n",
              "    <tr style=\"text-align: right;\">\n",
              "      <th></th>\n",
              "      <th>review</th>\n",
              "      <th>sentiment</th>\n",
              "    </tr>\n",
              "  </thead>\n",
              "  <tbody>\n",
              "    <tr>\n",
              "      <th>count</th>\n",
              "      <td>50000</td>\n",
              "      <td>50000</td>\n",
              "    </tr>\n",
              "    <tr>\n",
              "      <th>unique</th>\n",
              "      <td>49582</td>\n",
              "      <td>2</td>\n",
              "    </tr>\n",
              "    <tr>\n",
              "      <th>top</th>\n",
              "      <td>Loved today's show!!! It was a variety and not...</td>\n",
              "      <td>negative</td>\n",
              "    </tr>\n",
              "    <tr>\n",
              "      <th>freq</th>\n",
              "      <td>5</td>\n",
              "      <td>25000</td>\n",
              "    </tr>\n",
              "  </tbody>\n",
              "</table>\n",
              "</div>"
            ],
            "text/plain": [
              "                                                   review sentiment\n",
              "count                                               50000     50000\n",
              "unique                                              49582         2\n",
              "top     Loved today's show!!! It was a variety and not...  negative\n",
              "freq                                                    5     25000"
            ]
          },
          "metadata": {
            "tags": []
          },
          "execution_count": 97
        }
      ]
    },
    {
      "cell_type": "code",
      "metadata": {
        "colab": {
          "base_uri": "https://localhost:8080/"
        },
        "id": "HwYLlfkGkMpn",
        "outputId": "444f2e71-b981-4a53-d48d-4973bbb74d88"
      },
      "source": [
        "from nltk.corpus import stopwords\n",
        "nltk.download('stopwords')\n",
        "stop_words= set(stopwords.words('english'))\n",
        "print(stop_words)"
      ],
      "execution_count": null,
      "outputs": [
        {
          "output_type": "stream",
          "text": [
            "[nltk_data] Downloading package stopwords to /root/nltk_data...\n",
            "[nltk_data]   Package stopwords is already up-to-date!\n",
            "{'all', 'up', 'they', 'me', 'when', 'into', 'as', 'doing', 'that', 'during', 'under', 'doesn', \"she's\", 'herself', 'didn', \"hasn't\", 'their', 'hadn', 'whom', 'yourselves', 'were', 'for', \"shouldn't\", 'each', 'ain', 'has', 'being', \"haven't\", \"you're\", 'the', 'aren', 'but', 'shouldn', \"weren't\", 'shan', 'with', \"doesn't\", 'needn', 'then', \"wouldn't\", 'no', 'before', 'down', 'we', 'i', 'other', 'he', 'she', 'do', \"won't\", 'here', 'y', 'hers', 't', 'just', 'o', 'haven', \"needn't\", 'out', 'ma', 'on', 'most', \"aren't\", 'yours', 'both', 'mightn', \"that'll\", 'through', 'nor', 're', 'you', \"it's\", 'some', 'below', 'is', 'itself', 'at', \"should've\", 'if', 'by', 'its', 'should', 'again', 'from', 'my', \"you've\", 'off', 'so', 's', 'does', 'now', 'hasn', 'was', 'theirs', 'against', 'about', \"shan't\", 'not', 'ours', 'themselves', 'couldn', 'and', 'why', 'or', \"couldn't\", 'while', 'himself', \"you'll\", 'an', 'than', \"hadn't\", 'have', 'after', 'there', 'a', 'until', 'same', 'between', 'been', 'ourselves', 've', 'which', 'few', 'these', 'too', 'm', 'in', 'wouldn', 'will', 'where', 'be', 'don', 'had', 'further', 'having', 'him', 'over', 'won', 'myself', 'very', \"mightn't\", 'of', 'what', 'our', 'above', 'am', 'only', 'yourself', 'd', 'weren', \"mustn't\", 'his', \"you'd\", 'such', 'them', 'who', \"isn't\", 'wasn', 'isn', 'any', 'her', 'can', \"didn't\", 'are', 'because', \"don't\", 'did', 'to', 'more', 'own', 'mustn', 'how', 'your', 'those', 'once', 'this', 'll', 'it', \"wasn't\"}\n"
          ],
          "name": "stdout"
        }
      ]
    },
    {
      "cell_type": "code",
      "metadata": {
        "colab": {
          "base_uri": "https://localhost:8080/",
          "height": 120
        },
        "id": "wBriby0_kR_x",
        "outputId": "93b48c8a-b203-4729-f2d1-33a6e52d109e"
      },
      "source": [
        "data['without_stopwords'] =data['review'].apply(lambda x: ' '.join( [i for i in x.split() if i not in(stop_words)]))\n",
        "data['without_stopwords'][0]\n"
      ],
      "execution_count": null,
      "outputs": [
        {
          "output_type": "execute_result",
          "data": {
            "application/vnd.google.colaboratory.intrinsic+json": {
              "type": "string"
            },
            "text/plain": [
              "\"One reviewers mentioned watching 1 Oz episode hooked. They right, exactly happened me.<br /><br />The first thing struck Oz brutality unflinching scenes violence, set right word GO. Trust me, show faint hearted timid. This show pulls punches regards drugs, sex violence. Its hardcore, classic use word.<br /><br />It called OZ nickname given Oswald Maximum Security State Penitentary. It focuses mainly Emerald City, experimental section prison cells glass fronts face inwards, privacy high agenda. Em City home many..Aryans, Muslims, gangstas, Latinos, Christians, Italians, Irish more....so scuffles, death stares, dodgy dealings shady agreements never far away.<br /><br />I would say main appeal show due fact goes shows dare. Forget pretty pictures painted mainstream audiences, forget charm, forget romance...OZ mess around. The first episode I ever saw struck nasty surreal, I say I ready it, I watched more, I developed taste Oz, got accustomed high levels graphic violence. Not violence, injustice (crooked guards who'll sold nickel, inmates who'll kill order get away it, well mannered, middle class inmates turned prison bitches due lack street skills prison experience) Watching Oz, may become comfortable uncomfortable viewing....thats get touch darker side.\""
            ]
          },
          "metadata": {
            "tags": []
          },
          "execution_count": 99
        }
      ]
    },
    {
      "cell_type": "code",
      "metadata": {
        "colab": {
          "base_uri": "https://localhost:8080/",
          "height": 120
        },
        "id": "uS8jtiGElkmi",
        "outputId": "2f4dcf5c-b25e-4e03-ea5c-defa28ae9e7f"
      },
      "source": [
        "punc=('\"','.',',','!','#','&','(',')',';',':')\n",
        "def delete_punc(text):\n",
        "  str=\"\"\n",
        "  for i in text:\n",
        "    if i not in punc:\n",
        "      str=str+i\n",
        "    else:\n",
        "      str=str+' '\n",
        "  return str\n",
        "data['without_stopwords'] =data['without_stopwords'].apply(delete_punc)\n",
        "\n",
        "data['without_stopwords'][0]"
      ],
      "execution_count": null,
      "outputs": [
        {
          "output_type": "execute_result",
          "data": {
            "application/vnd.google.colaboratory.intrinsic+json": {
              "type": "string"
            },
            "text/plain": [
              "\"One reviewers mentioned watching 1 Oz episode hooked  They right  exactly happened me <br /><br />The first thing struck Oz brutality unflinching scenes violence  set right word GO  Trust me  show faint hearted timid  This show pulls punches regards drugs  sex violence  Its hardcore  classic use word <br /><br />It called OZ nickname given Oswald Maximum Security State Penitentary  It focuses mainly Emerald City  experimental section prison cells glass fronts face inwards  privacy high agenda  Em City home many  Aryans  Muslims  gangstas  Latinos  Christians  Italians  Irish more    so scuffles  death stares  dodgy dealings shady agreements never far away <br /><br />I would say main appeal show due fact goes shows dare  Forget pretty pictures painted mainstream audiences  forget charm  forget romance   OZ mess around  The first episode I ever saw struck nasty surreal  I say I ready it  I watched more  I developed taste Oz  got accustomed high levels graphic violence  Not violence  injustice  crooked guards who'll sold nickel  inmates who'll kill order get away it  well mannered  middle class inmates turned prison bitches due lack street skills prison experience  Watching Oz  may become comfortable uncomfortable viewing    thats get touch darker side \""
            ]
          },
          "metadata": {
            "tags": []
          },
          "execution_count": 100
        }
      ]
    },
    {
      "cell_type": "code",
      "metadata": {
        "colab": {
          "base_uri": "https://localhost:8080/",
          "height": 35
        },
        "id": "UAfVBZLqpkGJ",
        "outputId": "4b5d9f31-8158-44f6-823b-5b7a94e92940"
      },
      "source": [
        "def delete_tags(text):\n",
        "    str = \"\"\n",
        "    f = True\n",
        "    for char in text:\n",
        "        char=char.lower()\n",
        "        if char == '<':\n",
        "            f = False\n",
        "\n",
        "        if (f):\n",
        "            str = str + char\n",
        "\n",
        "        if char == '>':\n",
        "            f == True\n",
        "            str = str + ' '    \n",
        "        \n",
        "    return str\n",
        "\n",
        "data['without_stopwords'] = data['without_stopwords'].apply(delete_tags)\n",
        "data['without_stopwords'][0]"
      ],
      "execution_count": null,
      "outputs": [
        {
          "output_type": "execute_result",
          "data": {
            "application/vnd.google.colaboratory.intrinsic+json": {
              "type": "string"
            },
            "text/plain": [
              "'one reviewers mentioned watching 1 oz episode hooked  they right  exactly happened me       '"
            ]
          },
          "metadata": {
            "tags": []
          },
          "execution_count": 101
        }
      ]
    },
    {
      "cell_type": "code",
      "metadata": {
        "colab": {
          "base_uri": "https://localhost:8080/"
        },
        "id": "9IIr_OwxxUda",
        "outputId": "c74ebc71-e38e-45ab-c04c-16b46c4415ed"
      },
      "source": [
        "nltk.download('punkt')\n",
        "data['tokens']= data['without_stopwords'].apply(nltk.word_tokenize)\n",
        "data['tokens']"
      ],
      "execution_count": null,
      "outputs": [
        {
          "output_type": "stream",
          "text": [
            "[nltk_data] Downloading package punkt to /root/nltk_data...\n",
            "[nltk_data]   Package punkt is already up-to-date!\n"
          ],
          "name": "stdout"
        },
        {
          "output_type": "execute_result",
          "data": {
            "text/plain": [
              "0        [one, reviewers, mentioned, watching, 1, oz, e...\n",
              "1                       [a, wonderful, little, production]\n",
              "2        [i, thought, wonderful, way, spend, time, hot,...\n",
              "3        [basically, there, 's, family, little, boy, ja...\n",
              "4        [petter, mattei, 's, love, time, money, visual...\n",
              "                               ...                        \n",
              "49995    [i, thought, movie, right, good, job, it, crea...\n",
              "49996    [bad, plot, bad, dialogue, bad, acting, idioti...\n",
              "49997    [i, catholic, taught, parochial, elementary, s...\n",
              "49998    [i, 'm, going, disagree, previous, comment, si...\n",
              "49999    [no, one, expects, star, trek, movies, high, a...\n",
              "Name: tokens, Length: 50000, dtype: object"
            ]
          },
          "metadata": {
            "tags": []
          },
          "execution_count": 102
        }
      ]
    },
    {
      "cell_type": "code",
      "metadata": {
        "colab": {
          "base_uri": "https://localhost:8080/"
        },
        "id": "NUJxytp442FV",
        "outputId": "1c835b39-a9d1-487e-da4c-dd463da7c7c8"
      },
      "source": [
        "from nltk.stem import PorterStemmer\n",
        "from nltk.tokenize import word_tokenize\n",
        "   \n",
        "ps = PorterStemmer()\n",
        "\n",
        "def stem(tokens):\n",
        "    final = [ps.stem(w) for w in tokens]\n",
        "    return final\n",
        "\n",
        "data['stemmed_tokens'] = data['tokens'].apply(stem)  \n",
        "data['stemmed_tokens'][0]\n",
        "  \n",
        "\n",
        "  \n",
        "   "
      ],
      "execution_count": null,
      "outputs": [
        {
          "output_type": "execute_result",
          "data": {
            "text/plain": [
              "['one',\n",
              " 'review',\n",
              " 'mention',\n",
              " 'watch',\n",
              " '1',\n",
              " 'oz',\n",
              " 'episod',\n",
              " 'hook',\n",
              " 'they',\n",
              " 'right',\n",
              " 'exactli',\n",
              " 'happen',\n",
              " 'me']"
            ]
          },
          "metadata": {
            "tags": []
          },
          "execution_count": 103
        }
      ]
    },
    {
      "cell_type": "code",
      "metadata": {
        "colab": {
          "base_uri": "https://localhost:8080/",
          "height": 394
        },
        "id": "-6RR0Nxc8kqL",
        "outputId": "32f39b39-0fb4-4e0f-f2a8-4b402a3a8e6b"
      },
      "source": [
        "data['value'] = [2*(v==\"positive\")-1 for v in data['sentiment']]\n",
        "data.head(10)"
      ],
      "execution_count": null,
      "outputs": [
        {
          "output_type": "execute_result",
          "data": {
            "text/html": [
              "<div>\n",
              "<style scoped>\n",
              "    .dataframe tbody tr th:only-of-type {\n",
              "        vertical-align: middle;\n",
              "    }\n",
              "\n",
              "    .dataframe tbody tr th {\n",
              "        vertical-align: top;\n",
              "    }\n",
              "\n",
              "    .dataframe thead th {\n",
              "        text-align: right;\n",
              "    }\n",
              "</style>\n",
              "<table border=\"1\" class=\"dataframe\">\n",
              "  <thead>\n",
              "    <tr style=\"text-align: right;\">\n",
              "      <th></th>\n",
              "      <th>review</th>\n",
              "      <th>sentiment</th>\n",
              "      <th>without_stopwords</th>\n",
              "      <th>tokens</th>\n",
              "      <th>stemmed_tokens</th>\n",
              "      <th>value</th>\n",
              "    </tr>\n",
              "  </thead>\n",
              "  <tbody>\n",
              "    <tr>\n",
              "      <th>0</th>\n",
              "      <td>One of the other reviewers has mentioned that ...</td>\n",
              "      <td>positive</td>\n",
              "      <td>one reviewers mentioned watching 1 oz episode ...</td>\n",
              "      <td>[one, reviewers, mentioned, watching, 1, oz, e...</td>\n",
              "      <td>[one, review, mention, watch, 1, oz, episod, h...</td>\n",
              "      <td>1</td>\n",
              "    </tr>\n",
              "    <tr>\n",
              "      <th>1</th>\n",
              "      <td>A wonderful little production. &lt;br /&gt;&lt;br /&gt;The...</td>\n",
              "      <td>positive</td>\n",
              "      <td>a wonderful little production</td>\n",
              "      <td>[a, wonderful, little, production]</td>\n",
              "      <td>[a, wonder, littl, product]</td>\n",
              "      <td>1</td>\n",
              "    </tr>\n",
              "    <tr>\n",
              "      <th>2</th>\n",
              "      <td>I thought this was a wonderful way to spend ti...</td>\n",
              "      <td>positive</td>\n",
              "      <td>i thought wonderful way spend time hot summer ...</td>\n",
              "      <td>[i, thought, wonderful, way, spend, time, hot,...</td>\n",
              "      <td>[i, thought, wonder, way, spend, time, hot, su...</td>\n",
              "      <td>1</td>\n",
              "    </tr>\n",
              "    <tr>\n",
              "      <th>3</th>\n",
              "      <td>Basically there's a family where a little boy ...</td>\n",
              "      <td>negative</td>\n",
              "      <td>basically there's family little boy  jake  thi...</td>\n",
              "      <td>[basically, there, 's, family, little, boy, ja...</td>\n",
              "      <td>[basic, there, 's, famili, littl, boy, jake, t...</td>\n",
              "      <td>-1</td>\n",
              "    </tr>\n",
              "    <tr>\n",
              "      <th>4</th>\n",
              "      <td>Petter Mattei's \"Love in the Time of Money\" is...</td>\n",
              "      <td>positive</td>\n",
              "      <td>petter mattei's  love time money  visually stu...</td>\n",
              "      <td>[petter, mattei, 's, love, time, money, visual...</td>\n",
              "      <td>[petter, mattei, 's, love, time, money, visual...</td>\n",
              "      <td>1</td>\n",
              "    </tr>\n",
              "    <tr>\n",
              "      <th>5</th>\n",
              "      <td>Probably my all-time favorite movie, a story o...</td>\n",
              "      <td>positive</td>\n",
              "      <td>probably all-time favorite movie  story selfle...</td>\n",
              "      <td>[probably, all-time, favorite, movie, story, s...</td>\n",
              "      <td>[probabl, all-tim, favorit, movi, stori, selfl...</td>\n",
              "      <td>1</td>\n",
              "    </tr>\n",
              "    <tr>\n",
              "      <th>6</th>\n",
              "      <td>I sure would like to see a resurrection of a u...</td>\n",
              "      <td>positive</td>\n",
              "      <td>i sure would like see resurrection dated seahu...</td>\n",
              "      <td>[i, sure, would, like, see, resurrection, date...</td>\n",
              "      <td>[i, sure, would, like, see, resurrect, date, s...</td>\n",
              "      <td>1</td>\n",
              "    </tr>\n",
              "    <tr>\n",
              "      <th>7</th>\n",
              "      <td>This show was an amazing, fresh &amp; innovative i...</td>\n",
              "      <td>negative</td>\n",
              "      <td>this show amazing  fresh   innovative idea 70'...</td>\n",
              "      <td>[this, show, amazing, fresh, innovative, idea,...</td>\n",
              "      <td>[thi, show, amaz, fresh, innov, idea, 70, 's, ...</td>\n",
              "      <td>-1</td>\n",
              "    </tr>\n",
              "    <tr>\n",
              "      <th>8</th>\n",
              "      <td>Encouraged by the positive comments about this...</td>\n",
              "      <td>negative</td>\n",
              "      <td>encouraged positive comments film i looking fo...</td>\n",
              "      <td>[encouraged, positive, comments, film, i, look...</td>\n",
              "      <td>[encourag, posit, comment, film, i, look, forw...</td>\n",
              "      <td>-1</td>\n",
              "    </tr>\n",
              "    <tr>\n",
              "      <th>9</th>\n",
              "      <td>If you like original gut wrenching laughter yo...</td>\n",
              "      <td>positive</td>\n",
              "      <td>if like original gut wrenching laughter like m...</td>\n",
              "      <td>[if, like, original, gut, wrenching, laughter,...</td>\n",
              "      <td>[if, like, origin, gut, wrench, laughter, like...</td>\n",
              "      <td>1</td>\n",
              "    </tr>\n",
              "  </tbody>\n",
              "</table>\n",
              "</div>"
            ],
            "text/plain": [
              "                                              review  ... value\n",
              "0  One of the other reviewers has mentioned that ...  ...     1\n",
              "1  A wonderful little production. <br /><br />The...  ...     1\n",
              "2  I thought this was a wonderful way to spend ti...  ...     1\n",
              "3  Basically there's a family where a little boy ...  ...    -1\n",
              "4  Petter Mattei's \"Love in the Time of Money\" is...  ...     1\n",
              "5  Probably my all-time favorite movie, a story o...  ...     1\n",
              "6  I sure would like to see a resurrection of a u...  ...     1\n",
              "7  This show was an amazing, fresh & innovative i...  ...    -1\n",
              "8  Encouraged by the positive comments about this...  ...    -1\n",
              "9  If you like original gut wrenching laughter yo...  ...     1\n",
              "\n",
              "[10 rows x 6 columns]"
            ]
          },
          "metadata": {
            "tags": []
          },
          "execution_count": 104
        }
      ]
    },
    {
      "cell_type": "code",
      "metadata": {
        "colab": {
          "base_uri": "https://localhost:8080/"
        },
        "id": "AC3vHw-4C94g",
        "outputId": "2cdf72ba-ef28-4fcd-c7a8-6530130fd8ca"
      },
      "source": [
        "from gensim import corpora\n",
        "\n",
        "review_dict = corpora.Dictionary(data['stemmed_tokens'])\n",
        "print(review_dict)"
      ],
      "execution_count": null,
      "outputs": [
        {
          "output_type": "stream",
          "text": [
            "Dictionary(73174 unique tokens: ['1', 'episod', 'exactli', 'happen', 'hook']...)\n"
          ],
          "name": "stdout"
        }
      ]
    },
    {
      "cell_type": "code",
      "metadata": {
        "colab": {
          "base_uri": "https://localhost:8080/"
        },
        "id": "KvcKPAqmNpu_",
        "outputId": "8bf38762-8dc1-4805-a9f6-a7dae00d5506"
      },
      "source": [
        "from sklearn.model_selection import train_test_split\n",
        "\n",
        "def split_train_test(top_data_data_small, test_size=0.3, shuffle_state=True):\n",
        "    X_train, X_test, Y_train, Y_test = train_test_split(top_data_data_small[['review','sentiment','without_stopwords','tokens','stemmed_tokens','value']], \n",
        "                                                        top_data_data_small['value'], \n",
        "                                                        shuffle=shuffle_state,\n",
        "                                                        test_size=test_size, \n",
        "                                                        random_state=15)\n",
        "    print(\"Value counts for Train sentiments\")\n",
        "    print(Y_train.value_counts())\n",
        "    print(\"Value counts for Test sentiments\")\n",
        "    print(Y_test.value_counts())\n",
        "    print(type(X_train))\n",
        "    print(type(Y_train))\n",
        "    X_train = X_train.reset_index()\n",
        "    X_test = X_test.reset_index()\n",
        "    Y_train = Y_train.to_frame()\n",
        "    Y_train = Y_train.reset_index()\n",
        "    Y_test = Y_test.to_frame()\n",
        "    Y_test = Y_test.reset_index()\n",
        "    print(X_train.head())\n",
        "    return X_train, X_test, Y_train, Y_test\n",
        "\n",
        "X_train, X_test, Y_train, Y_test = split_train_test(data)"
      ],
      "execution_count": null,
      "outputs": [
        {
          "output_type": "stream",
          "text": [
            "Value counts for Train sentiments\n",
            "-1    17512\n",
            " 1    17488\n",
            "Name: value, dtype: int64\n",
            "Value counts for Test sentiments\n",
            " 1    7512\n",
            "-1    7488\n",
            "Name: value, dtype: int64\n",
            "<class 'pandas.core.frame.DataFrame'>\n",
            "<class 'pandas.core.series.Series'>\n",
            "   index  ... value\n",
            "0  36322  ...     1\n",
            "1   4638  ...     1\n",
            "2  46808  ...    -1\n",
            "3  38099  ...    -1\n",
            "4  31461  ...     1\n",
            "\n",
            "[5 rows x 7 columns]\n"
          ],
          "name": "stdout"
        }
      ]
    },
    {
      "cell_type": "code",
      "metadata": {
        "colab": {
          "base_uri": "https://localhost:8080/",
          "height": 570
        },
        "id": "LmqhhDSzWfj6",
        "outputId": "dcb9630f-ac18-4246-b687-3fc9ed63cb7d"
      },
      "source": [
        "X_train"
      ],
      "execution_count": null,
      "outputs": [
        {
          "output_type": "execute_result",
          "data": {
            "text/html": [
              "<div>\n",
              "<style scoped>\n",
              "    .dataframe tbody tr th:only-of-type {\n",
              "        vertical-align: middle;\n",
              "    }\n",
              "\n",
              "    .dataframe tbody tr th {\n",
              "        vertical-align: top;\n",
              "    }\n",
              "\n",
              "    .dataframe thead th {\n",
              "        text-align: right;\n",
              "    }\n",
              "</style>\n",
              "<table border=\"1\" class=\"dataframe\">\n",
              "  <thead>\n",
              "    <tr style=\"text-align: right;\">\n",
              "      <th></th>\n",
              "      <th>index</th>\n",
              "      <th>review</th>\n",
              "      <th>sentiment</th>\n",
              "      <th>without_stopwords</th>\n",
              "      <th>tokens</th>\n",
              "      <th>stemmed_tokens</th>\n",
              "      <th>value</th>\n",
              "    </tr>\n",
              "  </thead>\n",
              "  <tbody>\n",
              "    <tr>\n",
              "      <th>0</th>\n",
              "      <td>36322</td>\n",
              "      <td>The sequel is exactly what you will expect it ...</td>\n",
              "      <td>positive</td>\n",
              "      <td>the sequel exactly expect be  and good enough ...</td>\n",
              "      <td>[the, sequel, exactly, expect, be, and, good, ...</td>\n",
              "      <td>[the, sequel, exactli, expect, be, and, good, ...</td>\n",
              "      <td>1</td>\n",
              "    </tr>\n",
              "    <tr>\n",
              "      <th>1</th>\n",
              "      <td>4638</td>\n",
              "      <td>This is a pretty well known one so i won't get...</td>\n",
              "      <td>positive</td>\n",
              "      <td>this pretty well known one get deep it  the ba...</td>\n",
              "      <td>[this, pretty, well, known, one, get, deep, it...</td>\n",
              "      <td>[thi, pretti, well, known, one, get, deep, it,...</td>\n",
              "      <td>1</td>\n",
              "    </tr>\n",
              "    <tr>\n",
              "      <th>2</th>\n",
              "      <td>46808</td>\n",
              "      <td>I made the mistake of buying this since I coll...</td>\n",
              "      <td>negative</td>\n",
              "      <td>i made mistake buying since i collect comic bo...</td>\n",
              "      <td>[i, made, mistake, buying, since, i, collect, ...</td>\n",
              "      <td>[i, made, mistak, buy, sinc, i, collect, comic...</td>\n",
              "      <td>-1</td>\n",
              "    </tr>\n",
              "    <tr>\n",
              "      <th>3</th>\n",
              "      <td>38099</td>\n",
              "      <td>This movie is the proverbial 80s flick that sh...</td>\n",
              "      <td>negative</td>\n",
              "      <td>this movie proverbial 80s flick shows viewer l...</td>\n",
              "      <td>[this, movie, proverbial, 80s, flick, shows, v...</td>\n",
              "      <td>[thi, movi, proverbi, 80, flick, show, viewer,...</td>\n",
              "      <td>-1</td>\n",
              "    </tr>\n",
              "    <tr>\n",
              "      <th>4</th>\n",
              "      <td>31461</td>\n",
              "      <td>I absolutely LOVED this movie as a child. I ca...</td>\n",
              "      <td>positive</td>\n",
              "      <td>i absolutely loved movie child  i can't seem f...</td>\n",
              "      <td>[i, absolutely, loved, movie, child, i, ca, n'...</td>\n",
              "      <td>[i, absolut, love, movi, child, i, ca, n't, se...</td>\n",
              "      <td>1</td>\n",
              "    </tr>\n",
              "    <tr>\n",
              "      <th>...</th>\n",
              "      <td>...</td>\n",
              "      <td>...</td>\n",
              "      <td>...</td>\n",
              "      <td>...</td>\n",
              "      <td>...</td>\n",
              "      <td>...</td>\n",
              "      <td>...</td>\n",
              "    </tr>\n",
              "    <tr>\n",
              "      <th>34995</th>\n",
              "      <td>39296</td>\n",
              "      <td>When i started watching \"Surface\"for the first...</td>\n",
              "      <td>positive</td>\n",
              "      <td>when started watching  surface for first time ...</td>\n",
              "      <td>[when, started, watching, surface, for, first,...</td>\n",
              "      <td>[when, start, watch, surfac, for, first, time,...</td>\n",
              "      <td>1</td>\n",
              "    </tr>\n",
              "    <tr>\n",
              "      <th>34996</th>\n",
              "      <td>49015</td>\n",
              "      <td>Are you kidding me? This is quite possibly the...</td>\n",
              "      <td>negative</td>\n",
              "      <td>are kidding me? this quite possibly worst  ama...</td>\n",
              "      <td>[are, kidding, me, ?, this, quite, possibly, w...</td>\n",
              "      <td>[are, kid, me, ?, thi, quit, possibl, worst, a...</td>\n",
              "      <td>-1</td>\n",
              "    </tr>\n",
              "    <tr>\n",
              "      <th>34997</th>\n",
              "      <td>2693</td>\n",
              "      <td>One would make you believe that this game is a...</td>\n",
              "      <td>negative</td>\n",
              "      <td>one would make believe game man obsessed numbe...</td>\n",
              "      <td>[one, would, make, believe, game, man, obsesse...</td>\n",
              "      <td>[one, would, make, believ, game, man, obsess, ...</td>\n",
              "      <td>-1</td>\n",
              "    </tr>\n",
              "    <tr>\n",
              "      <th>34998</th>\n",
              "      <td>8076</td>\n",
              "      <td>I'D BUY THAT FOR A DOLLAR!!!&lt;br /&gt;&lt;br /&gt;I did ...</td>\n",
              "      <td>positive</td>\n",
              "      <td>i'd buy that for a dollar</td>\n",
              "      <td>[i, 'd, buy, that, for, a, dollar]</td>\n",
              "      <td>[i, 'd, buy, that, for, a, dollar]</td>\n",
              "      <td>1</td>\n",
              "    </tr>\n",
              "    <tr>\n",
              "      <th>34999</th>\n",
              "      <td>7624</td>\n",
              "      <td>Seems to have been made as a vehicle for W.C. ...</td>\n",
              "      <td>positive</td>\n",
              "      <td>seems made vehicle w c  fields carol dempster ...</td>\n",
              "      <td>[seems, made, vehicle, w, c, fields, carol, de...</td>\n",
              "      <td>[seem, made, vehicl, w, c, field, carol, demps...</td>\n",
              "      <td>1</td>\n",
              "    </tr>\n",
              "  </tbody>\n",
              "</table>\n",
              "<p>35000 rows × 7 columns</p>\n",
              "</div>"
            ],
            "text/plain": [
              "       index  ... value\n",
              "0      36322  ...     1\n",
              "1       4638  ...     1\n",
              "2      46808  ...    -1\n",
              "3      38099  ...    -1\n",
              "4      31461  ...     1\n",
              "...      ...  ...   ...\n",
              "34995  39296  ...     1\n",
              "34996  49015  ...    -1\n",
              "34997   2693  ...    -1\n",
              "34998   8076  ...     1\n",
              "34999   7624  ...     1\n",
              "\n",
              "[35000 rows x 7 columns]"
            ]
          },
          "metadata": {
            "tags": []
          },
          "execution_count": 107
        }
      ]
    },
    {
      "cell_type": "markdown",
      "metadata": {
        "id": "tsaH7QJmW75r"
      },
      "source": [
        "# **Neural** **Networks**"
      ]
    },
    {
      "cell_type": "code",
      "metadata": {
        "colab": {
          "base_uri": "https://localhost:8080/"
        },
        "id": "1Y0lRGENXI6J",
        "outputId": "f94a8b07-a9c8-479a-a17b-bc0d19a336e1"
      },
      "source": [
        "import torch.nn as nn\n",
        "import torch.nn.functional as F\n",
        "import torch.optim as optim\n",
        "\n",
        "device= torch.device(\"cude\" if torch.cuda.is_available() else \"cpu\")\n",
        "print(\"device available for running  is-\")\n",
        "print(device)"
      ],
      "execution_count": null,
      "outputs": [
        {
          "output_type": "stream",
          "text": [
            "device available for running  is-\n",
            "cpu\n"
          ],
          "name": "stdout"
        }
      ]
    },
    {
      "cell_type": "code",
      "metadata": {
        "id": "5czVzqUvX77A"
      },
      "source": [
        "class FeedForwardNN(nn.Module):\n",
        "    def __init__(self,input_size,hidden_size,output_size):\n",
        "        super(FeedForwardNN,self).__init__()\n",
        "        \n",
        "        \n",
        "        self.LF1 = nn.Linear(input_size,hidden_size)\n",
        "        self.NLF1 = nn.ReLU()\n",
        "        \n",
        "        \n",
        "        self.LF2 = nn.Linear(hidden_size,hidden_size)\n",
        "        self.NLF2 = nn.ReLU()\n",
        "        \n",
        "        self.LF3 = nn.Linear(hidden_size,output_size)\n",
        "        \n",
        "    def forward(self,x):\n",
        "        \n",
        "        out = self.LF1(x)\n",
        "        out = self.NLF1(out)\n",
        "        \n",
        "         \n",
        "        out = self.LF2(out)\n",
        "        out = self.NLF2(out)\n",
        "        \n",
        "        out = self.LF3(out)\n",
        "        \n",
        "        return F.softmax(out,dim=1)\n",
        "     \n",
        "\n"
      ],
      "execution_count": null,
      "outputs": []
    },
    {
      "cell_type": "code",
      "metadata": {
        "id": "eune0XgZ4_IN"
      },
      "source": [
        "VOCAB_SIZE=len(review_dict)\n",
        "NUM_LABELS=2\n",
        "def make_bow_vector(review_dict, sentence):\n",
        "    vec = torch.zeros(VOCAB_SIZE,dtype = torch.float64, device = device)\n",
        "    for word in sentence:\n",
        "        vec[review_dict.token2id[word]]+=1\n",
        "    return vec.reshape(1,-1).float()"
      ],
      "execution_count": null,
      "outputs": []
    },
    {
      "cell_type": "code",
      "metadata": {
        "id": "yi1vBMVn5Pa-"
      },
      "source": [
        "def make_pred(label):\n",
        "    if label == -1:\n",
        "        return torch.tensor([0], dtype = torch.long, device = device)\n",
        "    elif label == 1:\n",
        "        return torch.tensor([1], dtype = torch.long, device = device)"
      ],
      "execution_count": null,
      "outputs": []
    },
    {
      "cell_type": "code",
      "metadata": {
        "id": "t2VybB2S5YE1"
      },
      "source": [
        "def train(num_epochs,batch_size,optimizer,loss_function = nn.CrossEntropyLoss()):\n",
        "  losses = []\n",
        "  task_len = num_epochs *len(X_train)\n",
        "  ittr = 0\n",
        "  for epoch in range(num_epochs):\n",
        "      train_loss = torch.tensor([0.],device = device)\n",
        "      for index,row in X_train.iterrows():\n",
        "          ittr+=1\n",
        "          if ittr%(task_len//100) == 0:\n",
        "            print(ittr*100//(task_len),'% complemeted')\n",
        "          # make bag of word vector \n",
        "          bow_vec = make_bow_vector(review_dict,row['stemmed_tokens'])\n",
        "        \n",
        "          # Forward pass\n",
        "          preds = FFNN(bow_vec)\n",
        "        \n",
        "          # get target label\n",
        "          target = make_pred(Y_train['value'][index])\n",
        "\n",
        "          loss = loss_function(preds, target)\n",
        "  \n",
        "          train_loss +=loss\n",
        "        \n",
        "          if ittr%batch_size ==0:\n",
        "            # clear gradients\n",
        "            optimizer.zero_grad()\n",
        "\n",
        "            # compute gradientts\n",
        "            train_loss.backward()\n",
        "\n",
        "            # update parameters\n",
        "            optimizer.step()\n",
        "            \n",
        "            losses.append(train_loss.item())\n",
        "            train_loss = 0.\n",
        "  return losses"
      ],
      "execution_count": null,
      "outputs": []
    },
    {
      "cell_type": "code",
      "metadata": {
        "id": "gOFRx7AP5l4Z"
      },
      "source": [
        "def accuracy():\n",
        "  correct_preds = 0\n",
        "  for index,row in X_test.iterrows():\n",
        "    bow_vec = make_bow_vector(review_dict,row['stemmed_tokens'])\n",
        "    # Forward pass\n",
        "    preds = list(FFNN(bow_vec)[0])\n",
        "    if preds[0]>preds[1]:\n",
        "      out = -1\n",
        "    else :\n",
        "      out = +1\n",
        "    if out == row['value']:\n",
        "      correct_preds+=1\n",
        "  \n",
        "  return correct_preds*100/len(X_test)\n",
        "\n",
        "def plot_loss(losses):\n",
        "  x = [i for i in range(0,len(losses))]\n",
        "  plt.plot(x,losses)\n",
        "  plt.title('Loss fnction')\n",
        "  plt.ylabel('Loss')\n",
        "  plt.xlabel('batch index')"
      ],
      "execution_count": null,
      "outputs": []
    },
    {
      "cell_type": "code",
      "metadata": {
        "id": "lefo1Gpm5vz1"
      },
      "source": [
        "VOCAB_SIZE = len(review_dict)\n",
        "\n",
        "input_size = VOCAB_SIZE\n",
        "hidden_dim = 500\n",
        "output_size = 2\n",
        "num_epochs = 2\n",
        "batch_size = 200\n",
        "\n",
        "FFNN = FeedForwardNN(input_size,hidden_dim,output_size)\n",
        "FFNN.to(device)\n",
        "loss_function = nn.CrossEntropyLoss()\n",
        "optimizer = optim.SGD(FFNN.parameters(), lr = 0.005)\n"
      ],
      "execution_count": null,
      "outputs": []
    },
    {
      "cell_type": "code",
      "metadata": {
        "colab": {
          "base_uri": "https://localhost:8080/"
        },
        "id": "R5N0_vNo7WxF",
        "outputId": "a19fdd91-bc06-4ffc-8b24-277ebe6014f2"
      },
      "source": [
        "\n",
        "losses = train(num_epochs,200,optimizer)"
      ],
      "execution_count": null,
      "outputs": [
        {
          "output_type": "stream",
          "text": [
            "1 % complemeted\n",
            "2 % complemeted\n",
            "3 % complemeted\n",
            "4 % complemeted\n",
            "5 % complemeted\n",
            "6 % complemeted\n",
            "7 % complemeted\n",
            "8 % complemeted\n",
            "9 % complemeted\n",
            "10 % complemeted\n",
            "11 % complemeted\n",
            "12 % complemeted\n",
            "13 % complemeted\n",
            "14 % complemeted\n",
            "15 % complemeted\n",
            "16 % complemeted\n",
            "17 % complemeted\n",
            "18 % complemeted\n",
            "19 % complemeted\n",
            "20 % complemeted\n",
            "21 % complemeted\n",
            "22 % complemeted\n",
            "23 % complemeted\n",
            "24 % complemeted\n",
            "25 % complemeted\n",
            "26 % complemeted\n",
            "27 % complemeted\n",
            "28 % complemeted\n",
            "29 % complemeted\n",
            "30 % complemeted\n",
            "31 % complemeted\n",
            "32 % complemeted\n",
            "33 % complemeted\n",
            "34 % complemeted\n",
            "35 % complemeted\n",
            "36 % complemeted\n",
            "37 % complemeted\n",
            "38 % complemeted\n",
            "39 % complemeted\n",
            "40 % complemeted\n",
            "41 % complemeted\n",
            "42 % complemeted\n",
            "43 % complemeted\n",
            "44 % complemeted\n",
            "45 % complemeted\n",
            "46 % complemeted\n",
            "47 % complemeted\n",
            "48 % complemeted\n",
            "49 % complemeted\n",
            "50 % complemeted\n",
            "51 % complemeted\n",
            "52 % complemeted\n",
            "53 % complemeted\n",
            "54 % complemeted\n",
            "55 % complemeted\n",
            "56 % complemeted\n",
            "57 % complemeted\n",
            "58 % complemeted\n",
            "59 % complemeted\n",
            "60 % complemeted\n",
            "61 % complemeted\n",
            "62 % complemeted\n",
            "63 % complemeted\n",
            "64 % complemeted\n",
            "65 % complemeted\n",
            "66 % complemeted\n",
            "67 % complemeted\n",
            "68 % complemeted\n",
            "69 % complemeted\n",
            "70 % complemeted\n",
            "71 % complemeted\n",
            "72 % complemeted\n",
            "73 % complemeted\n",
            "74 % complemeted\n",
            "75 % complemeted\n",
            "76 % complemeted\n",
            "77 % complemeted\n",
            "78 % complemeted\n",
            "79 % complemeted\n",
            "80 % complemeted\n",
            "81 % complemeted\n",
            "82 % complemeted\n",
            "83 % complemeted\n",
            "84 % complemeted\n",
            "85 % complemeted\n",
            "86 % complemeted\n",
            "87 % complemeted\n",
            "88 % complemeted\n",
            "89 % complemeted\n",
            "90 % complemeted\n",
            "91 % complemeted\n",
            "92 % complemeted\n",
            "93 % complemeted\n",
            "94 % complemeted\n",
            "95 % complemeted\n",
            "96 % complemeted\n",
            "97 % complemeted\n",
            "98 % complemeted\n",
            "99 % complemeted\n",
            "100 % complemeted\n"
          ],
          "name": "stdout"
        }
      ]
    },
    {
      "cell_type": "code",
      "metadata": {
        "colab": {
          "base_uri": "https://localhost:8080/"
        },
        "id": "ctvW-emM5z3g",
        "outputId": "774ff14e-0c3f-40f3-8619-09425dda078d"
      },
      "source": [
        "accuracy()"
      ],
      "execution_count": null,
      "outputs": [
        {
          "output_type": "execute_result",
          "data": {
            "text/plain": [
              "78.98666666666666"
            ]
          },
          "metadata": {
            "tags": []
          },
          "execution_count": 118
        }
      ]
    },
    {
      "cell_type": "code",
      "metadata": {
        "colab": {
          "base_uri": "https://localhost:8080/",
          "height": 295
        },
        "id": "xdsHl9Kw6TMV",
        "outputId": "44bb3607-d8f4-42be-9a3a-a40b41931750"
      },
      "source": [
        "plot_loss(losses)"
      ],
      "execution_count": null,
      "outputs": [
        {
          "output_type": "display_data",
          "data": {
            "image/png": "[encoded data removed]",
            "text/plain": [
              "<Figure size 432x288 with 1 Axes>"
            ]
          },
          "metadata": {
            "tags": [],
            "needs_background": "light"
          }
        }
      ]
    }
  ]
}